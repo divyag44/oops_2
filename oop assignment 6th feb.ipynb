{
 "cells": [
  {
   "cell_type": "markdown",
   "id": "1479e15f-7b46-40f8-9999-0f29bb0fdff5",
   "metadata": {},
   "source": [
    "### Q1. Create a function which will take a list as an argument and return the product of all the numbers after creating a flat list. Use the below-given list as an argument for your function. list1 = [1,2,3,4, [44,55,66, True], False, (34,56,78,89,34), {1,2,3,3,2,1}, {1:34, \"key2\": [55, 67, 78, 89], 4: (45,\n",
    "22, 61, 34)}, [56, 'data science'], 'Machine Learning'] Note: you must extract numeric keys and values of the dictionary also."
   ]
  },
  {
   "cell_type": "code",
   "execution_count": 82,
   "id": "5c38bf7a-88ff-4c5e-b704-49999964b120",
   "metadata": {},
   "outputs": [],
   "source": [
    "def get_flat_list(*arg):\n",
    "    flat_list = []\n",
    "    for items in list1:\n",
    "        if type(items) == int:\n",
    "            flat_list.append(items)\n",
    "        elif type(items) == list:\n",
    "            for sub_item in items:\n",
    "                if type(sub_item) == int:\n",
    "                    flat_list.append(sub_item)\n",
    "        elif type(items) == str:\n",
    "            pass\n",
    "        elif type(items) == tuple:\n",
    "            for sub_item in items:\n",
    "                if type(sub_item) == int:\n",
    "                    flat_list.append(sub_item)\n",
    "        elif type(items) == set:\n",
    "            for sub_item in items:\n",
    "                if type(sub_item) == int:\n",
    "                    flat_list.append(sub_item)\n",
    "        elif type(items) == dict:\n",
    "            for sub_item in items:\n",
    "                if type(sub_item) == int:\n",
    "                    flat_list.append(sub_item)\n",
    "                if type(items[sub_item]) == int:\n",
    "                    flat_list.append(items[sub_item])\n",
    "                if type(sub_item) == str:\n",
    "                    pass\n",
    "                if type(items[sub_item]) == list or type(items[sub_item]) == tuple:\n",
    "                    for i in items[sub_item]:\n",
    "                        flat_list.append(i)\n",
    "        elif type(items) == list:\n",
    "            for sub_item in items:\n",
    "                if type(sub_item) == int:\n",
    "                    flat_list.append(sub_item)\n",
    "        else:\n",
    "            pass\n",
    "    print(flat_list)\n",
    "    value = 1\n",
    "    for i in flat_list:\n",
    "        value = value * i\n",
    "    return value"
   ]
  },
  {
   "cell_type": "code",
   "execution_count": 93,
   "id": "9b27c4b6-3d5d-4ccd-b67d-374bbb4a91c6",
   "metadata": {},
   "outputs": [
    {
     "name": "stdout",
     "output_type": "stream",
     "text": [
      "[1, 2, 3, 4, [44, 55, 66, True], False, (34, 56, 78, 89, 34), {1, 2, 3}, {1: 34, 'key2': [55, 67, 78, 89], 4: (45, 22, 61, 34)}, [56, 'data science'], 'Machine Learning']\n"
     ]
    }
   ],
   "source": [
    "list1 = [1,2,3,4, [44,55,66, True], False, (34,56,78,89,34), {1,2,3,3,2,1}, {1:34, \"key2\": [55, 67, 78, 89], 4: (45, 22, 61, 34)}, [56, 'data science'], 'Machine Learning']\n",
    "print(list1)"
   ]
  },
  {
   "cell_type": "markdown",
   "id": "4645708a-5756-4d01-9dd5-eaaa42f92454",
   "metadata": {},
   "source": [
    "### Q2. Write a python program for encrypting a message sent to you by your friend. The logic of encryption should be such that, for a the output should be z. For b, the output should be y. For c, the output should be x respectively. Also, the whitespace should be replaced with a dollar sign. Keep the punctuation marks unchanged. Input Sentence: I want to become a Data Scientist. Encrypt the above input sentence using the program you just created."
   ]
  },
  {
   "cell_type": "code",
   "execution_count": 92,
   "id": "d673a02a-7efc-466f-8c6c-ba03ad8fde3c",
   "metadata": {},
   "outputs": [
    {
     "name": "stdout",
     "output_type": "stream",
     "text": [
      "\n",
      "NOTE : Please enter all the alphabets in lowercase...\n",
      "\n"
     ]
    },
    {
     "name": "stdin",
     "output_type": "stream",
     "text": [
      "Please enter the word to be coded :  y\n"
     ]
    },
    {
     "name": "stdout",
     "output_type": "stream",
     "text": [
      "\n",
      "The code for  y  is :-\n",
      "t\n"
     ]
    }
   ],
   "source": [
    "alphabetsalphabets=['a','b','c','d','e','f','g','h','i','j','k','l','m','n' ,'o','p','q','r','s','t','u','v','w','x','y','z']\n",
    "# Defining all sorts of functions\n",
    "\n",
    "def position(tofind,source):\n",
    "    size = len(source)\n",
    "    for i in range(0,size,1):\n",
    "        if (source[i] == tofind):\n",
    "            p = i + 1\n",
    "            break\n",
    "    return p\n",
    "def encrypt(a):\n",
    "    output = []\n",
    "    sizea = len(a)\n",
    "    for i in range(0,sizea,1):\n",
    "        x = i+5\n",
    "        y = position(a[i],alphabets)\n",
    "        z = 26-x+y\n",
    "        if (z>26):\n",
    "            z = z % 26\n",
    "        element = alphabets[z-1]\n",
    "        output.append(element)\n",
    "    return output\n",
    "def converttolist(text):\n",
    "    size = len(text)\n",
    "    l = []\n",
    "    for i in range(0,size,1):\n",
    "        l.append(text[i])\n",
    "    return l\n",
    "\n",
    "# The main program\n",
    "\n",
    "print ()\n",
    "print (\"NOTE : Please enter all the alphabets in lowercase...\")\n",
    "print ()\n",
    "given = str(input(\"Please enter the word to be coded : \"))\n",
    "givenlist = converttolist(given)\n",
    "outputlist = encrypt(givenlist)\n",
    "print ()\n",
    "print (\"The code for \",given,\" is :-\")\n",
    "outputlistlength = len(outputlist)\n",
    "for i in range(0,outputlistlength,1):\n",
    "    print (outputlist[i])"
   ]
  },
  {
   "cell_type": "code",
   "execution_count": null,
   "id": "1770a247-2d5e-4352-9c68-0dbce91798f1",
   "metadata": {},
   "outputs": [],
   "source": []
  }
 ],
 "metadata": {
  "kernelspec": {
   "display_name": "Python 3 (ipykernel)",
   "language": "python",
   "name": "python3"
  },
  "language_info": {
   "codemirror_mode": {
    "name": "ipython",
    "version": 3
   },
   "file_extension": ".py",
   "mimetype": "text/x-python",
   "name": "python",
   "nbconvert_exporter": "python",
   "pygments_lexer": "ipython3",
   "version": "3.10.8"
  }
 },
 "nbformat": 4,
 "nbformat_minor": 5
}
